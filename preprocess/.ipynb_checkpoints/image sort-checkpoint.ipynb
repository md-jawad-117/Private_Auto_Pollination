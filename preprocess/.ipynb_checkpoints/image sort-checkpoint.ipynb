{
 "cells": [
  {
   "cell_type": "code",
   "execution_count": 3,
   "id": "1ffc358e",
   "metadata": {},
   "outputs": [],
   "source": [
    "import os\n",
    "import shutil\n",
    "import random\n",
    "\n",
    "# Source folder containing images and text files in YOLO format\n",
    "source_folder = \"E:/Research_Papers/weed_detect/Dataset/cotton1/resized\"\n",
    "\n",
    "# Destination folder to copy the selected files\n",
    "destination_folder = \"E:/Research_Papers/Autonomous Pollination/Dataset/aug/Final/valid/images\"\n",
    "\n",
    "# Percentage of files to select (15% in this case)\n",
    "percentage_to_select = 10\n",
    "\n",
    "# Get a list of all files in the source folder\n",
    "all_files = os.listdir(source_folder)\n",
    "\n"
   ]
  },
  {
   "cell_type": "code",
   "execution_count": 4,
   "id": "84bb16aa",
   "metadata": {},
   "outputs": [
    {
     "name": "stdout",
     "output_type": "stream",
     "text": [
      "Successfully copied and deleted 480 files from the source folder.\n"
     ]
    }
   ],
   "source": [
    "\n",
    "image_files = [file for file in all_files if file.endswith((\".jpg\", \".jpeg\", \".png\"))]\n",
    "text_files = [file for file in all_files if file.endswith(\".txt\")]\n",
    "\n",
    "# Calculate the number of files to select\n",
    "num_to_select = int(len(image_files) * (percentage_to_select / 100))\n",
    "\n",
    "# Randomly select files\n",
    "selected_files = random.sample(list(zip(image_files, text_files)), num_to_select)\n",
    "\n",
    "# Create the destination folder if it doesn't exist\n",
    "os.makedirs(destination_folder, exist_ok=True)\n",
    "\n",
    "# Copy selected files to the destination folder\n",
    "for image_file, text_file in selected_files:\n",
    "    image_path = os.path.join(source_folder, image_file)\n",
    "    text_path = os.path.join(source_folder, text_file)\n",
    "    destination_image_path = os.path.join(destination_folder, image_file)\n",
    "    destination_text_path = os.path.join(destination_folder, text_file)\n",
    "    \n",
    "    # Copy selected files to the destination folder\n",
    "    shutil.copy(image_path, destination_image_path)\n",
    "    shutil.copy(text_path, destination_text_path)\n",
    "    \n",
    "    # Delete the selected files from the source folder\n",
    "    os.remove(image_path)\n",
    "    os.remove(text_path)\n",
    "\n",
    "print(f\"Successfully copied and deleted {num_to_select} files from the source folder.\")"
   ]
  },
  {
   "cell_type": "code",
   "execution_count": 6,
   "id": "31182f9a",
   "metadata": {},
   "outputs": [
    {
     "name": "stdout",
     "output_type": "stream",
     "text": [
      "Validation: Every image has a corresponding text file.\n"
     ]
    }
   ],
   "source": [
    "import os\n",
    "\n",
    "# Path to the folder containing images and text files in YOLO format\n",
    "folder_path = \"E:/Research_Papers/weed_detect/Dataset/cotton1/resized/valid/images\"\n",
    "# folder_path = \"E:/Research_Papers/weed_detect/Dataset/CottonWeedDet12/CottonWeedDet12/weedImages\"\n",
    "\n",
    "# Get a list of all image files in the folder\n",
    "image_files = [file for file in os.listdir(folder_path) if file.endswith((\".jpg\", \".jpeg\", \".png\"))]\n",
    "\n",
    "# Get a list of all text files in the folder\n",
    "text_files = [file for file in os.listdir(folder_path) if file.endswith(\".txt\")]\n",
    "\n",
    "# Check if every image has a corresponding text file\n",
    "missing_txt_files = []\n",
    "for image_file in image_files:\n",
    "    txt_file = os.path.splitext(image_file)[0] + \".txt\"\n",
    "    if txt_file not in text_files:\n",
    "        missing_txt_files.append(txt_file)\n",
    "\n",
    "if len(missing_txt_files) == 0:\n",
    "    print(\"Validation: Every image has a corresponding text file.\")\n",
    "else:\n",
    "    print(\"Validation: Some images do not have corresponding text files:\")\n",
    "    for missing_txt in missing_txt_files:\n",
    "        print(missing_txt)\n"
   ]
  },
  {
   "cell_type": "code",
   "execution_count": null,
   "id": "280005d9",
   "metadata": {},
   "outputs": [],
   "source": [
    "import os\n",
    "import hashlib\n",
    "import shutil\n",
    "\n",
    "# Path to the folder containing images\n",
    "folder_path = \"path/to/your/folder\"\n",
    "\n",
    "# Dictionary to store the hash values of images\n",
    "hash_dict = {}\n",
    "\n",
    "# Iterate through all files in the folder\n",
    "for filename in os.listdir(folder_path):\n",
    "    file_path = os.path.join(folder_path, filename)\n",
    "    if os.path.isfile(file_path):\n",
    "        # Calculate the MD5 hash of the file content\n",
    "        with open(file_path, 'rb') as f:\n",
    "            file_hash = hashlib.md5(f.read()).hexdigest()\n",
    "        \n",
    "        # Check if the hash already exists in the dictionary (duplicate)\n",
    "        if file_hash in hash_dict:\n",
    "            # Remove the duplicate file\n",
    "            os.remove(file_path)\n",
    "            print(f\"Removed duplicate: {filename}\")\n",
    "        else:\n",
    "            # Store the hash in the dictionary\n",
    "            hash_dict[file_hash] = filename\n",
    "\n",
    "print(\"Duplicate files removed successfully.\")\n"
   ]
  },
  {
   "cell_type": "code",
   "execution_count": 5,
   "id": "dc65aadb",
   "metadata": {},
   "outputs": [
    {
     "name": "stdout",
     "output_type": "stream",
     "text": [
      "Deleted: E:/Research_Papers/weed_detect/Dataset/archive/all_fields_lincolnbeet/all\\near30_near30_07_05_2021_v_1_132.png\n",
      "Deleted: E:/Research_Papers/weed_detect/Dataset/archive/all_fields_lincolnbeet/all\\near30_near30_01_06_2021_v_1_106.png\n",
      "Deleted: E:/Research_Papers/weed_detect/Dataset/archive/all_fields_lincolnbeet/all\\near30_near30_28_05_2021_v_1_333.png\n",
      "Deleted: E:/Research_Papers/weed_detect/Dataset/archive/all_fields_lincolnbeet/all\\near30_near30_21_05_2021_v_7_75.png\n",
      "Deleted: E:/Research_Papers/weed_detect/Dataset/archive/all_fields_lincolnbeet/all\\near30_near30_28_05_2021_v_3_225.png\n",
      "Deleted: E:/Research_Papers/weed_detect/Dataset/archive/all_fields_lincolnbeet/all\\bbro_bbro_21_05_2021_v_4_56.png\n",
      "Deleted: E:/Research_Papers/weed_detect/Dataset/archive/all_fields_lincolnbeet/all\\near30_near30_28_05_2021_v_2_390.png\n",
      "Deleted: E:/Research_Papers/weed_detect/Dataset/archive/all_fields_lincolnbeet/all\\near30_near30_01_06_2021_v_1_98.png\n",
      "Deleted: E:/Research_Papers/weed_detect/Dataset/archive/all_fields_lincolnbeet/all\\near30_near30_28_05_2021_v_1_173.png\n",
      "Deleted: E:/Research_Papers/weed_detect/Dataset/archive/all_fields_lincolnbeet/all\\near30_near30_07_05_2021_v_3_182.png\n",
      "Deleted: E:/Research_Papers/weed_detect/Dataset/archive/all_fields_lincolnbeet/all\\near30_near30_30_04_2021_v_0_105.png\n",
      "Cleanup complete.\n"
     ]
    }
   ],
   "source": [
    "import os\n",
    "\n",
    "# Specify the folder path where your YOLO format files are located\n",
    "folder_path = \"E:/Research_Papers/weed_detect/Dataset/archive/all_fields_lincolnbeet/all\"\n",
    "\n",
    "# Get a list of all files in the folder\n",
    "all_files = os.listdir(folder_path)\n",
    "\n",
    "# Create two sets to store the names of image and text files\n",
    "image_files = set()\n",
    "text_files = set()\n",
    "\n",
    "# Iterate through all files in the folder and separate them into image and text files\n",
    "for file_name in all_files:\n",
    "    if file_name.endswith(\".jpg\") or file_name.endswith(\".png\"):\n",
    "        image_files.add(file_name)\n",
    "    elif file_name.endswith(\".txt\"):\n",
    "        text_files.add(file_name)\n",
    "\n",
    "# Find files that are either missing an image or text file and delete them\n",
    "for image_file in image_files:\n",
    "    base_name = os.path.splitext(image_file)[0]\n",
    "    if f\"{base_name}.txt\" not in text_files:\n",
    "        file_to_delete = os.path.join(folder_path, image_file)\n",
    "        os.remove(file_to_delete)\n",
    "        print(f\"Deleted: {file_to_delete}\")\n",
    "\n",
    "for text_file in text_files:\n",
    "    base_name = os.path.splitext(text_file)[0]\n",
    "    if f\"{base_name}.jpg\" not in image_files and f\"{base_name}.png\" not in image_files:\n",
    "        file_to_delete = os.path.join(folder_path, text_file)\n",
    "        os.remove(file_to_delete)\n",
    "        print(f\"Deleted: {file_to_delete}\")\n",
    "\n",
    "print(\"Cleanup complete.\")\n"
   ]
  },
  {
   "cell_type": "code",
   "execution_count": null,
   "id": "e202a4bf",
   "metadata": {},
   "outputs": [],
   "source": [
    "def choose_image(self, button_number):\n",
    "        options = QFileDialog.Options()\n",
    "        options |= QFileDialog.ReadOnly\n",
    "        file_dialog = QFileDialog()\n",
    "        file_dialog.setFileMode(QFileDialog.AnyFile)\n",
    "        file_dialog.setNameFilter(\"Images (*.png *.jpg *.bmp)\")\n",
    "        file_dialog.setViewMode(QFileDialog.Detail)\n",
    "        \n",
    "        if file_dialog.exec_():\n",
    "            selected_files = file_dialog.selectedFiles()\n",
    "            if selected_files:\n",
    "                image_path = selected_files[0]\n",
    "                pixmap = QPixmap(image_path)\n",
    "                \n",
    "                # Resize the pixmap to a fixed size\n",
    "                pixmap = pixmap.scaled(QSize(300, 300), Qt.KeepAspectRatio, Qt.SmoothTransformation)\n",
    "                \n",
    "                self.image_label.setPixmap(pixmap)\n",
    "                self.image_label.show()\n",
    "\n",
    "                # Get selected option from the dropdown menu\n",
    "                selected_option = self.findChild(QComboBox, 'dropdown_menu').currentText()\n",
    "\n",
    "                # Get current time\n",
    "                current_time = QDateTime.currentDateTime().toString(Qt.DefaultLocaleLongDate)\n",
    "\n",
    "                # Update the read-only text box with option name, time, and button number\n",
    "                text_box_content = f\"Selected Option: {selected_option}\\nTime: {current_time}\\nButton: {button_number}\"\n",
    "                self.findChild(QTextEdit, 'text_box').setPlainText(text_box_content)\n"
   ]
  }
 ],
 "metadata": {
  "kernelspec": {
   "display_name": "Python 3 (ipykernel)",
   "language": "python",
   "name": "python3"
  },
  "language_info": {
   "codemirror_mode": {
    "name": "ipython",
    "version": 3
   },
   "file_extension": ".py",
   "mimetype": "text/x-python",
   "name": "python",
   "nbconvert_exporter": "python",
   "pygments_lexer": "ipython3",
   "version": "3.9.2"
  }
 },
 "nbformat": 4,
 "nbformat_minor": 5
}
